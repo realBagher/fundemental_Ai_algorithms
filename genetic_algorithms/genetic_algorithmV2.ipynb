{
  "nbformat": 4,
  "nbformat_minor": 0,
  "metadata": {
    "colab": {
      "provenance": [],
      "authorship_tag": "ABX9TyNf09fb31nynOXrlE1XMDVP",
      "include_colab_link": true
    },
    "kernelspec": {
      "name": "python3",
      "display_name": "Python 3"
    },
    "language_info": {
      "name": "python"
    }
  },
  "cells": [
    {
      "cell_type": "markdown",
      "metadata": {
        "id": "view-in-github",
        "colab_type": "text"
      },
      "source": [
        "<a href=\"https://colab.research.google.com/github/realBagher/fundemental_Ai_algorithms/blob/main/genetic_algorithms/genetic_algorithmV2.ipynb\" target=\"_parent\"><img src=\"https://colab.research.google.com/assets/colab-badge.svg\" alt=\"Open In Colab\"/></a>"
      ]
    },
    {
      "cell_type": "markdown",
      "source": [
        "## implementation of Gentic Algorithm from Scratch using numpy and pandas \n",
        "\n",
        "\n"
      ],
      "metadata": {
        "id": "UUOdP90uIqKM"
      }
    },
    {
      "cell_type": "code",
      "source": [
        "import pandas as pd\n",
        "import numpy as np\n",
        "import matplotlib.pyplot as plt \n",
        "import math\n",
        "from tqdm import tqdm "
      ],
      "metadata": {
        "id": "yGrfnkCIJJLM"
      },
      "execution_count": null,
      "outputs": []
    },
    {
      "cell_type": "markdown",
      "source": [
        "**Helper functions **"
      ],
      "metadata": {
        "id": "WUFw6fnSI_F9"
      }
    },
    {
      "cell_type": "markdown",
      "source": [
        "**Sigmoid Function & tanh Functions**\n",
        "> in my initial approach, using *sigmoid* or *hyperbolic* functions seemed probable for normalizing the fitness value of each individual however as we moved onwards we faced significant draw-backs as the range of the fitness values are squashed and *SGA* lacks the ability to work with such ranges of numbers and this has a significant impact on our parent selection mechanism  "
      ],
      "metadata": {
        "id": "1KqiiddLpsH5"
      }
    },
    {
      "cell_type": "code",
      "source": [
        "def sigmoid(z):\n",
        "  return 1/(1 + np.exp(-z))"
      ],
      "metadata": {
        "id": "840SzYd6I7Tc"
      },
      "execution_count": null,
      "outputs": []
    },
    {
      "cell_type": "code",
      "source": [
        "def tanh(z):\n",
        "  return (np.exp(z)-np.exp(-z))/(np.exp(z)+np.exp(-z))"
      ],
      "metadata": {
        "id": "wo3uINPUHoyM"
      },
      "execution_count": null,
      "outputs": []
    },
    {
      "cell_type": "markdown",
      "source": [
        "**Fitness Evaluation Function**\n",
        "> further analyzing the given Quadratic we can deduce that we are solving for a maximum as the curvature of the function is upside-down thus we can use the value of the actual function as the diffrentiating measure which is define as *func* "
      ],
      "metadata": {
        "id": "zSGkRLx8sY25"
      }
    },
    {
      "cell_type": "code",
      "execution_count": null,
      "metadata": {
        "id": "AcybfTi1IhWg"
      },
      "outputs": [],
      "source": [
        "def func(x):\n",
        "  return ((-x**2)+6*x)"
      ]
    },
    {
      "cell_type": "markdown",
      "source": [
        "**INITIALIZING GENERATIONS**\n",
        "> using *np.random.randint* we intialize k units of individuals in range of 0 to 30  "
      ],
      "metadata": {
        "id": "bEShShZft_SF"
      }
    },
    {
      "cell_type": "code",
      "source": [
        "def intialize(k):\n",
        "  population = np.random.randint(0,30,k) \n",
        "  return population"
      ],
      "metadata": {
        "id": "2rWgfAEoOsJu"
      },
      "execution_count": null,
      "outputs": []
    },
    {
      "cell_type": "markdown",
      "source": [
        "**Evalutation Function**\n",
        "> we simply map every individual to the *func* and return the value as the fitness of every individual "
      ],
      "metadata": {
        "id": "L7ZyM6YSumHt"
      }
    },
    {
      "cell_type": "code",
      "source": [],
      "metadata": {
        "id": "txJA_ecWu4Du"
      },
      "execution_count": null,
      "outputs": []
    },
    {
      "cell_type": "code",
      "source": [
        "def evaluation(x):\n",
        "  value = []\n",
        "  \n",
        "  for i in x:\n",
        "    value.append(func(i))\n",
        "\n",
        "  \n",
        "  return value\n",
        "  # return func(x)\n",
        "  # return sigmoid(func(x))\n",
        "  # return tanh(func(x))"
      ],
      "metadata": {
        "id": "Qe2xJYe_PR_m"
      },
      "execution_count": null,
      "outputs": []
    },
    {
      "cell_type": "markdown",
      "source": [
        "**PROBABILITY GENERATION FOR RUSSIAN ROULETE**\n",
        "\n",
        "\n",
        "*   we should note that the sum of the probability is equal to 1\n",
        "*   we should also note that the probability of each indiviual can't be a negative value \n",
        "* and even the worst indiviual must have a chance \n",
        "> considering the above conditions we set out to add the **minimum fitness** of the generation + 1 to each so that all probabilities remain positive and comparable\n",
        "<br>\n",
        "> **+1** is to give the worst a guy a chace however minimal\n",
        "\n"
      ],
      "metadata": {
        "id": "i3VyyYoDvCx1"
      }
    },
    {
      "cell_type": "code",
      "source": [
        "def prob_generator(fitness):\n",
        "\n",
        "  min = np.min(fitness)\n",
        "  fitness = fitness + np.absolute(min) + 1\n",
        "\n",
        "  return fitness/np.sum(fitness)"
      ],
      "metadata": {
        "id": "SwLvD_-6PUU1"
      },
      "execution_count": null,
      "outputs": []
    },
    {
      "cell_type": "markdown",
      "source": [
        "**Roulette Wheel**\n",
        "<br>\n",
        ">implementing the roulette wheel is just a simple matter of using [np.random.choice](https://numpy.org/doc/stable/reference/random/generated/numpy.random.choice.html)"
      ],
      "metadata": {
        "id": "wf84VsCnxL31"
      }
    },
    {
      "cell_type": "code",
      "source": [
        "def roulette_wheel(population,prob,pop_size):\n",
        "  pop = np.random.choice(population,pop_size,p=prob)\n",
        "  return pop \n"
      ],
      "metadata": {
        "id": "DwVcnM0n54uu"
      },
      "execution_count": null,
      "outputs": []
    },
    {
      "cell_type": "markdown",
      "source": [
        "###CROSS OVER\n",
        "> we implement the two types of cross over \n",
        "\n",
        "1.   one point cross over\n",
        "2.   uniform cross over\n",
        "<br>\n",
        " both of which are implemented below \n",
        "<br>\n",
        "\n",
        "*   note that we pass indiviual between binary and decimal whenever needed\n",
        "*   the rest of the code is self-explanatory \n",
        "\n",
        "\n"
      ],
      "metadata": {
        "id": "nAl62Lvex2yc"
      }
    },
    {
      "cell_type": "code",
      "source": [
        "def cross_over(type_,prob,parents,uniform_prob):\n",
        "  if np.random.random_sample(1) < prob:\n",
        "   if type_ == 1:\n",
        "     return one_point_cross_over(prob,parents)\n",
        "   elif type_ == 2:\n",
        "      return uniform_cross_over(uniform_prob,parents)\n",
        "  else:\n",
        "    # print('no cross over! output type: ->',type(parents[0]))\n",
        "    child1 = parents[0]\n",
        "    child2 = parents[1]\n",
        "    child1 = int(child1)\n",
        "    child2 = int(child2)\n",
        "    child1 = bin(child1)\n",
        "    child2 = bin(child2)\n",
        "    return child1[2:],child2[2:]"
      ],
      "metadata": {
        "id": "zIIS1L0WOSUe"
      },
      "execution_count": null,
      "outputs": []
    },
    {
      "cell_type": "code",
      "source": [
        "def one_point_cross_over(prob,parents):\n",
        "  \n",
        "  father = int(parents[0])\n",
        "  mother = int(parents[1])\n",
        "  # print(type(father),'---------')\n",
        "  # print(len(bin(father)))\n",
        "  father = bin(int(parents[0]))[2:].zfill(5)\n",
        "  mother = bin(int(parents[1]))[2:].zfill(5)\n",
        "  \n",
        "  # here we find the point at which cross-over happens \n",
        "  point = np.random.randint(1,len(father)-1,1)\n",
        "  point[0] = point[0] + 2\n",
        "  # print('point',point[0])\n",
        "  # child1 = father[0:point[0]],mother[point[0]:] \n",
        "  # print(child1)\n",
        "  child1 = father[0:point[0]]+mother[point[0]:] \n",
        "  # print('format',child1)\n",
        "  child2 = mother[0:point[0]]+mother[point[0]:]\n",
        "  return child1,child2"
      ],
      "metadata": {
        "id": "4NUjHAroOi9k"
      },
      "execution_count": null,
      "outputs": []
    },
    {
      "cell_type": "code",
      "source": [
        "def uniform_cross_over(uniform_prob,parents):\n",
        "  father = parents[0]\n",
        "  mother = parents[1]\n",
        "  father = bin(father)[2:].zfill(5)\n",
        "  mother = bin(mother)[2:].zfill(5)\n",
        "  child1 = bin(0)[2:].zfill(5)\n",
        "  child2 = bin(0)[2:].zfill(5)\n",
        "  father = list(father)\n",
        "  mother = list(mother)\n",
        "  child1 = list(child1)\n",
        "  child2 = list(child2)\n",
        "\n",
        "  # using random.random_sample to make probability of each bits\n",
        "  for i in range(len(father)):\n",
        "    prob = np.random.random_sample(1)[0]\n",
        "    # print('% is',prob,'round:',i)\n",
        "    if prob < uniform_prob:\n",
        "      child1[i] = father[i]\n",
        "      child2[i] = mother[i]\n",
        "    else:\n",
        "      child1[i] = mother[i]\n",
        "      child2[i] = father[i]\n",
        "\n",
        "  return ''.join(child1),''.join(child2)"
      ],
      "metadata": {
        "id": "kSjf6XV5OmF9"
      },
      "execution_count": null,
      "outputs": []
    },
    {
      "cell_type": "markdown",
      "source": [
        "## Mutation \n",
        "> using the function *np.random.random_Sample* we generate the probability of each mutation and compare it to the given threshhold by the user "
      ],
      "metadata": {
        "id": "KCS3xEfXzwCc"
      }
    },
    {
      "cell_type": "code",
      "source": [
        "def mutation(prob,genome):\n",
        "  # print('mutation input ------------->',genome)\n",
        "  genome = list(genome)\n",
        "  for i in range(len(genome)):\n",
        "    temp = np.random.random_sample(1)\n",
        "    # print('% is ',temp,' round:',i)\n",
        "    if prob > temp:\n",
        "      if genome[i] == 0:\n",
        "        genome[i] = 1\n",
        "      else: \n",
        "        genome[i] = 0\n",
        "  genome = ''.join(map(str, genome))\n",
        "  # print('mutated genome: -> ',genome)\n",
        "  return genome\n"
      ],
      "metadata": {
        "id": "SgCFOk9_RfG8"
      },
      "execution_count": null,
      "outputs": []
    },
    {
      "cell_type": "markdown",
      "source": [
        "## Replacement Strategy \n",
        "> using the dataframe data-structure of pandas we **concat** the parents generation and new child generation together and sort it by **fitness** in an *deascending manner* and later on we take the best of the both generations \n",
        "<br>\n",
        "<br>\n",
        "**In other words we use fitness-base replacement strategy**"
      ],
      "metadata": {
        "id": "61QK5HHU0KEt"
      }
    },
    {
      "cell_type": "code",
      "source": [
        "def replacement(df_child,df_parent):\n",
        "  temp = pd.concat([df_child, df_parent], axis=0)\n",
        "  return temp.sort_values(by='fitness',ascending=False).reset_index(drop=True).loc[0:9]\n",
        "  "
      ],
      "metadata": {
        "id": "HhyuyHnhBzVT"
      },
      "execution_count": null,
      "outputs": []
    },
    {
      "cell_type": "markdown",
      "source": [
        "#actual genetic algorithm\n",
        "\n",
        "> implementation of the genetic algorithm optimizing \\-x^2+6x for answers \n",
        "<br>\n",
        "here we leverage the pandas dataframe structures to sort and organize each value of the indiviual \n",
        "\n"
      ],
      "metadata": {
        "id": "23KxMoW3T6qY"
      }
    },
    {
      "cell_type": "code",
      "source": [
        "def ga(pop_size,mutation_rate,cross_rate,cross_type,termination):\n",
        "  popu = intialize(pop_size)\n",
        "  \n",
        "  # print('-- going for the main loop')\n",
        "  for i in tqdm(range(termination)):\n",
        "    # print('initial population',popu)\n",
        "    # print('\\n generation',i,' :original population',popu)\n",
        "    fitness = evaluation(popu)\n",
        "    # print('\\n fitness:\\n',fitness)\n",
        "    probability = prob_generator(fitness)\n",
        "    # print('\\n probability \\n',probability)\n",
        "\n",
        "    # expected_count = expected_number(10,popu)\n",
        "    popu = roulette_wheel(popu,probability,pop_size)\n",
        "    # print('generation',i,' :population after selection',popu)\n",
        "    fitness = evaluation(popu)\n",
        "    probability = prob_generator(fitness)\n",
        "\n",
        "\n",
        "    # print('\\n expected values \\n',expected_count)\n",
        "    selected_parents_df = pd.DataFrame(np.array([popu,fitness,probability]).T,columns=['population','fitness','probability'])\n",
        "     \n",
        "    # removes positional bias \n",
        "    childs_df =  selected_parents_df.sample(frac=1).reset_index(drop=True)\n",
        "    for i in range (0,len(childs_df.index)-1,2):\n",
        "      # print('---------test index',len(childs_df.index),' =>',i,i+1)\n",
        "      child1 = childs_df.loc[i]['population']\n",
        "      child2 = childs_df.loc[i+1]['population']\n",
        "      # print('pair',i,'first child',child1)\n",
        "      # print('pair',i,'second child',child2)\n",
        "      child1 , child2  = cross_over(cross_type,cross_rate,(child1,child2),0.5)\n",
        "      # print ('after cross ::::',child1,child2)\n",
        "      child1 = mutation(mutation_rate,child1)\n",
        "      child2 = mutation(mutation_rate,child2)\n",
        "      child1 = int(child1,2)\n",
        "      child2 = int(child2,2)\n",
        "      # # print('after variations: ',child1,child2)\n",
        "      childs_df.loc[i]['population'] = child1\n",
        "      childs_df.loc[i+1]['population'] = child2\n",
        "    # all variation end here we set on to calaculate the fitness and probability \n",
        "    childs_df['population'] = childs_df['population'].astype('int')\n",
        "    childs_df['fitness'] = evaluation(np.array(childs_df['population'].values.tolist()))\n",
        "    childs_df['probability'] = prob_generator(np.array(childs_df['fitness'].values.tolist()))\n",
        "    # replacement strategy \n",
        "    replacement_Df =  replacement(childs_df,selected_parents_df)\n",
        "    popu = np.array(replacement_Df['population'].values.tolist())\n",
        "    # print('replaced popu:',popu)\n",
        "\n",
        "  print()\n",
        "  # return the best 10 of the last generation \n",
        "  return replacement_Df.head(10)\n",
        "\n",
        "\n",
        "\n",
        "\n"
      ],
      "metadata": {
        "id": "xlNqOVYBax-Z"
      },
      "execution_count": null,
      "outputs": []
    },
    {
      "cell_type": "markdown",
      "source": [
        "#INSERT INPUTS HERE"
      ],
      "metadata": {
        "id": "OWWPVb8m67sz"
      }
    },
    {
      "cell_type": "code",
      "source": [
        "population_size = 10 #@param {type:\"integer\"}\n",
        "mutation_rate = 0.2 #@param {type:\"number\"}\n",
        "cross_over_rate = 0.6 #@param {type:\"number\"}\n",
        "cross_over_type = 1 #@param [\"1\", \"2\"] {type:\"raw\"}\n",
        "termination_loop = 2 #@param {type:\"integer\"}\n",
        "cross_over_type = int(cross_over_type)\n",
        "\n",
        "ga(population_size,mutation_rate,cross_over_rate,cross_over_type,termination_loop)\n"
      ],
      "metadata": {
        "colab": {
          "base_uri": "https://localhost:8080/",
          "height": 399
        },
        "id": "SDiwKdX5jg6n",
        "outputId": "cf9e6c20-621b-4ad9-b8fc-e38b653b6591"
      },
      "execution_count": null,
      "outputs": [
        {
          "output_type": "stream",
          "name": "stderr",
          "text": [
            "100%|██████████| 2/2 [00:00<00:00, 36.31it/s]"
          ]
        },
        {
          "output_type": "stream",
          "name": "stdout",
          "text": [
            "\n"
          ]
        },
        {
          "output_type": "stream",
          "name": "stderr",
          "text": [
            "\n"
          ]
        },
        {
          "output_type": "execute_result",
          "data": {
            "text/plain": [
              "   population  fitness  probability\n",
              "0         3.0      9.0     0.110294\n",
              "1         3.0      9.0     0.110294\n",
              "2         3.0      9.0     0.100559\n",
              "3         3.0      9.0     0.100559\n",
              "4         3.0      9.0     0.100559\n",
              "5         3.0      9.0     0.100559\n",
              "6         3.0      9.0     0.100559\n",
              "7         3.0      9.0     0.100559\n",
              "8         3.0      9.0     0.100559\n",
              "9         3.0      9.0     0.100559"
            ],
            "text/html": [
              "\n",
              "  <div id=\"df-78ab5581-8533-40aa-b575-1744866bd5a9\">\n",
              "    <div class=\"colab-df-container\">\n",
              "      <div>\n",
              "<style scoped>\n",
              "    .dataframe tbody tr th:only-of-type {\n",
              "        vertical-align: middle;\n",
              "    }\n",
              "\n",
              "    .dataframe tbody tr th {\n",
              "        vertical-align: top;\n",
              "    }\n",
              "\n",
              "    .dataframe thead th {\n",
              "        text-align: right;\n",
              "    }\n",
              "</style>\n",
              "<table border=\"1\" class=\"dataframe\">\n",
              "  <thead>\n",
              "    <tr style=\"text-align: right;\">\n",
              "      <th></th>\n",
              "      <th>population</th>\n",
              "      <th>fitness</th>\n",
              "      <th>probability</th>\n",
              "    </tr>\n",
              "  </thead>\n",
              "  <tbody>\n",
              "    <tr>\n",
              "      <th>0</th>\n",
              "      <td>3.0</td>\n",
              "      <td>9.0</td>\n",
              "      <td>0.110294</td>\n",
              "    </tr>\n",
              "    <tr>\n",
              "      <th>1</th>\n",
              "      <td>3.0</td>\n",
              "      <td>9.0</td>\n",
              "      <td>0.110294</td>\n",
              "    </tr>\n",
              "    <tr>\n",
              "      <th>2</th>\n",
              "      <td>3.0</td>\n",
              "      <td>9.0</td>\n",
              "      <td>0.100559</td>\n",
              "    </tr>\n",
              "    <tr>\n",
              "      <th>3</th>\n",
              "      <td>3.0</td>\n",
              "      <td>9.0</td>\n",
              "      <td>0.100559</td>\n",
              "    </tr>\n",
              "    <tr>\n",
              "      <th>4</th>\n",
              "      <td>3.0</td>\n",
              "      <td>9.0</td>\n",
              "      <td>0.100559</td>\n",
              "    </tr>\n",
              "    <tr>\n",
              "      <th>5</th>\n",
              "      <td>3.0</td>\n",
              "      <td>9.0</td>\n",
              "      <td>0.100559</td>\n",
              "    </tr>\n",
              "    <tr>\n",
              "      <th>6</th>\n",
              "      <td>3.0</td>\n",
              "      <td>9.0</td>\n",
              "      <td>0.100559</td>\n",
              "    </tr>\n",
              "    <tr>\n",
              "      <th>7</th>\n",
              "      <td>3.0</td>\n",
              "      <td>9.0</td>\n",
              "      <td>0.100559</td>\n",
              "    </tr>\n",
              "    <tr>\n",
              "      <th>8</th>\n",
              "      <td>3.0</td>\n",
              "      <td>9.0</td>\n",
              "      <td>0.100559</td>\n",
              "    </tr>\n",
              "    <tr>\n",
              "      <th>9</th>\n",
              "      <td>3.0</td>\n",
              "      <td>9.0</td>\n",
              "      <td>0.100559</td>\n",
              "    </tr>\n",
              "  </tbody>\n",
              "</table>\n",
              "</div>\n",
              "      <button class=\"colab-df-convert\" onclick=\"convertToInteractive('df-78ab5581-8533-40aa-b575-1744866bd5a9')\"\n",
              "              title=\"Convert this dataframe to an interactive table.\"\n",
              "              style=\"display:none;\">\n",
              "        \n",
              "  <svg xmlns=\"http://www.w3.org/2000/svg\" height=\"24px\"viewBox=\"0 0 24 24\"\n",
              "       width=\"24px\">\n",
              "    <path d=\"M0 0h24v24H0V0z\" fill=\"none\"/>\n",
              "    <path d=\"M18.56 5.44l.94 2.06.94-2.06 2.06-.94-2.06-.94-.94-2.06-.94 2.06-2.06.94zm-11 1L8.5 8.5l.94-2.06 2.06-.94-2.06-.94L8.5 2.5l-.94 2.06-2.06.94zm10 10l.94 2.06.94-2.06 2.06-.94-2.06-.94-.94-2.06-.94 2.06-2.06.94z\"/><path d=\"M17.41 7.96l-1.37-1.37c-.4-.4-.92-.59-1.43-.59-.52 0-1.04.2-1.43.59L10.3 9.45l-7.72 7.72c-.78.78-.78 2.05 0 2.83L4 21.41c.39.39.9.59 1.41.59.51 0 1.02-.2 1.41-.59l7.78-7.78 2.81-2.81c.8-.78.8-2.07 0-2.86zM5.41 20L4 18.59l7.72-7.72 1.47 1.35L5.41 20z\"/>\n",
              "  </svg>\n",
              "      </button>\n",
              "      \n",
              "  <style>\n",
              "    .colab-df-container {\n",
              "      display:flex;\n",
              "      flex-wrap:wrap;\n",
              "      gap: 12px;\n",
              "    }\n",
              "\n",
              "    .colab-df-convert {\n",
              "      background-color: #E8F0FE;\n",
              "      border: none;\n",
              "      border-radius: 50%;\n",
              "      cursor: pointer;\n",
              "      display: none;\n",
              "      fill: #1967D2;\n",
              "      height: 32px;\n",
              "      padding: 0 0 0 0;\n",
              "      width: 32px;\n",
              "    }\n",
              "\n",
              "    .colab-df-convert:hover {\n",
              "      background-color: #E2EBFA;\n",
              "      box-shadow: 0px 1px 2px rgba(60, 64, 67, 0.3), 0px 1px 3px 1px rgba(60, 64, 67, 0.15);\n",
              "      fill: #174EA6;\n",
              "    }\n",
              "\n",
              "    [theme=dark] .colab-df-convert {\n",
              "      background-color: #3B4455;\n",
              "      fill: #D2E3FC;\n",
              "    }\n",
              "\n",
              "    [theme=dark] .colab-df-convert:hover {\n",
              "      background-color: #434B5C;\n",
              "      box-shadow: 0px 1px 3px 1px rgba(0, 0, 0, 0.15);\n",
              "      filter: drop-shadow(0px 1px 2px rgba(0, 0, 0, 0.3));\n",
              "      fill: #FFFFFF;\n",
              "    }\n",
              "  </style>\n",
              "\n",
              "      <script>\n",
              "        const buttonEl =\n",
              "          document.querySelector('#df-78ab5581-8533-40aa-b575-1744866bd5a9 button.colab-df-convert');\n",
              "        buttonEl.style.display =\n",
              "          google.colab.kernel.accessAllowed ? 'block' : 'none';\n",
              "\n",
              "        async function convertToInteractive(key) {\n",
              "          const element = document.querySelector('#df-78ab5581-8533-40aa-b575-1744866bd5a9');\n",
              "          const dataTable =\n",
              "            await google.colab.kernel.invokeFunction('convertToInteractive',\n",
              "                                                     [key], {});\n",
              "          if (!dataTable) return;\n",
              "\n",
              "          const docLinkHtml = 'Like what you see? Visit the ' +\n",
              "            '<a target=\"_blank\" href=https://colab.research.google.com/notebooks/data_table.ipynb>data table notebook</a>'\n",
              "            + ' to learn more about interactive tables.';\n",
              "          element.innerHTML = '';\n",
              "          dataTable['output_type'] = 'display_data';\n",
              "          await google.colab.output.renderOutput(dataTable, element);\n",
              "          const docLink = document.createElement('div');\n",
              "          docLink.innerHTML = docLinkHtml;\n",
              "          element.appendChild(docLink);\n",
              "        }\n",
              "      </script>\n",
              "    </div>\n",
              "  </div>\n",
              "  "
            ]
          },
          "metadata": {},
          "execution_count": 28
        }
      ]
    },
    {
      "cell_type": "markdown",
      "source": [
        "**RESULTS OF THE LAST GENERATIONS ARE SHOWN ABOVE**"
      ],
      "metadata": {
        "id": "XN-0FfHG7ASq"
      }
    }
  ]
}