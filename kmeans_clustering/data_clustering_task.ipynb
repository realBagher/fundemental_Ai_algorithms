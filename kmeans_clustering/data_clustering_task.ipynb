{
  "nbformat": 4,
  "nbformat_minor": 0,
  "metadata": {
    "colab": {
      "provenance": [],
      "authorship_tag": "ABX9TyN65JX/jQKjIxzyXEewhIu2",
      "include_colab_link": true
    },
    "kernelspec": {
      "name": "python3",
      "display_name": "Python 3"
    },
    "language_info": {
      "name": "python"
    }
  },
  "cells": [
    {
      "cell_type": "markdown",
      "metadata": {
        "id": "view-in-github",
        "colab_type": "text"
      },
      "source": [
        "<a href=\"https://colab.research.google.com/github/realBagher/fundemental_Ai_algorithms/blob/main/kmeans_clustering/data_clustering_task.ipynb\" target=\"_parent\"><img src=\"https://colab.research.google.com/assets/colab-badge.svg\" alt=\"Open In Colab\"/></a>"
      ]
    },
    {
      "cell_type": "code",
      "source": [
        "import numpy as np\n",
        "import pandas as pd\n",
        "import matplotlib.pyplot as plt\n",
        "import tqdm \n"
      ],
      "metadata": {
        "id": "_6M4qnXfNO-J"
      },
      "execution_count": 37,
      "outputs": []
    },
    {
      "cell_type": "code",
      "source": [
        "# Load the data from a CSV file\n",
        "data = pd.read_csv('/content/data.csv')\n",
        "data.columns = ['y','x']\n"
      ],
      "metadata": {
        "id": "-CazpCRcNTNe"
      },
      "execution_count": 2,
      "outputs": []
    },
    {
      "cell_type": "code",
      "source": [
        "X = data[['x', 'y']]\n",
        "y = data.index"
      ],
      "metadata": {
        "id": "g22Ij0n2clHj"
      },
      "execution_count": 3,
      "outputs": []
    },
    {
      "cell_type": "code",
      "source": [
        "import numpy as np\n",
        "import pandas as pd\n",
        "\n",
        "def kmeans_clustering(X, num_clusters, max_iterations=100):\n",
        "\n",
        "    \"\"\"\n",
        "    assigns cluster to each data point\n",
        "\n",
        "    Parameters:\n",
        "        X (DataFrame): Input data features.\n",
        "        num_clusters (Int): Number of the clusters.\n",
        "        max_iterations (Int, optional): Number of maximum iterations.\n",
        "\n",
        "    Returns:\n",
        "        Labels (numpy array): Returns an array containing the data labels.  \n",
        "    \"\"\"\n",
        "\n",
        "\n",
        "    # Convert input data to a NumPy array\n",
        "    X = np.array(X)\n",
        "    \n",
        "    # Randomly initialize centroids\n",
        "    centroids_indices = np.random.choice(range(len(X)), size=num_clusters, replace=False)\n",
        "    centroids = X[centroids_indices]\n",
        "    \n",
        "    # Perform clustering\n",
        "    for _ in range(max_iterations):\n",
        "        # Calculate eucledian distances between data points and centroids\n",
        "        distances = np.linalg.norm(X[:, np.newaxis] - centroids, axis=2)\n",
        "        \n",
        "        # Assign data points to the nearest centroid\n",
        "        labels = np.argmin(distances, axis=1)\n",
        "        \n",
        "        # Update centroids based on the mean of assigned data points\n",
        "        new_centroids = np.array([X[labels == k].mean(axis=0) for k in range(num_clusters)])\n",
        "        \n",
        "        # Check convergence\n",
        "        if np.all(centroids == new_centroids):\n",
        "            break\n",
        "        \n",
        "        centroids = new_centroids\n",
        "    \n",
        "    return labels\n",
        "\n",
        "\n",
        "\n",
        "num_clusters = 5\n",
        "labels = kmeans_clustering(X, num_clusters)\n",
        "data['team_number'] = labels\n",
        "print(labels)\n"
      ],
      "metadata": {
        "id": "lqoe899bkxbv"
      },
      "execution_count": null,
      "outputs": []
    },
    {
      "cell_type": "code",
      "execution_count": 31,
      "metadata": {
        "id": "hdm-DO_u6MRp"
      },
      "outputs": [],
      "source": [
        "\n",
        "# Plot the data points with clusters\n",
        "def plot_data(X, clusters=None):\n",
        "\n",
        "    \"\"\"\n",
        "    Plots the data points with their corresponding classes or clusters.\n",
        "\n",
        "    Parameters:\n",
        "        X (DataFrame): Input data features.\n",
        "        y (Series): Input data labels or classes.\n",
        "        clusters (array-like, optional): Assigned clusters for the data points. Default is None.\n",
        "\n",
        "    Returns:\n",
        "        None\n",
        "    \"\"\"\n",
        "\n",
        "    if clusters is None:\n",
        "       print('error')\n",
        "    else:\n",
        "        plt.scatter(X[clusters == 0]['x'], X[clusters == 0]['y'], color='red', label='Cluster 0')\n",
        "        plt.scatter(X[clusters == 1]['x'], X[clusters == 1]['y'], color='blue', label='Cluster 1')\n",
        "        plt.scatter(X[clusters == 2]['x'], X[clusters == 2]['y'], color='green', label='Cluster 2')\n",
        "        plt.scatter(X[clusters == 3]['x'], X[clusters == 3]['y'], color='orange', label='Cluster 3')\n",
        "        plt.scatter(X[clusters == 4]['x'], X[clusters == 4]['y'], color='purple', label='Cluster 4')\n",
        "    \n",
        "    plt.xlabel('x')\n",
        "    plt.ylabel('y')\n",
        "    plt.legend()\n",
        "    plt.show()\n",
        "\n",
        "\n",
        "\n",
        "\n",
        "\n"
      ]
    },
    {
      "cell_type": "code",
      "source": [
        "plot_data(X,  labels)"
      ],
      "metadata": {
        "colab": {
          "base_uri": "https://localhost:8080/",
          "height": 449
        },
        "id": "yQ2ILppVmy2d",
        "outputId": "33d8f33d-3094-4e4d-bd20-e6cc6a19309a"
      },
      "execution_count": 32,
      "outputs": [
        {
          "output_type": "display_data",
          "data": {
            "text/plain": [
              "<Figure size 640x480 with 1 Axes>"
            ],
            "image/png": "[encoded data removed]"
          },
          "metadata": {}
        }
      ]
    },
    {
      "cell_type": "code",
      "source": [
        "data"
      ],
      "metadata": {
        "colab": {
          "base_uri": "https://localhost:8080/",
          "height": 423
        },
        "id": "8_ptCbTJicUl",
        "outputId": "79aa470d-386b-4b0e-c23a-46c5aeb77f5a"
      },
      "execution_count": 35,
      "outputs": [
        {
          "output_type": "execute_result",
          "data": {
            "text/plain": [
              "      y    x  team_number\n",
              "0    39   15            0\n",
              "1    81   15            4\n",
              "2     6   16            0\n",
              "3    77   16            4\n",
              "4    40   17            0\n",
              "..   ..  ...          ...\n",
              "195  79  120            3\n",
              "196  28  126            1\n",
              "197  74  126            3\n",
              "198  18  137            1\n",
              "199  83  137            3\n",
              "\n",
              "[200 rows x 3 columns]"
            ],
            "text/html": [
              "\n",
              "  <div id=\"df-f248abf7-da7b-4ba3-acdc-4bc4ae510a46\">\n",
              "    <div class=\"colab-df-container\">\n",
              "      <div>\n",
              "<style scoped>\n",
              "    .dataframe tbody tr th:only-of-type {\n",
              "        vertical-align: middle;\n",
              "    }\n",
              "\n",
              "    .dataframe tbody tr th {\n",
              "        vertical-align: top;\n",
              "    }\n",
              "\n",
              "    .dataframe thead th {\n",
              "        text-align: right;\n",
              "    }\n",
              "</style>\n",
              "<table border=\"1\" class=\"dataframe\">\n",
              "  <thead>\n",
              "    <tr style=\"text-align: right;\">\n",
              "      <th></th>\n",
              "      <th>y</th>\n",
              "      <th>x</th>\n",
              "      <th>team_number</th>\n",
              "    </tr>\n",
              "  </thead>\n",
              "  <tbody>\n",
              "    <tr>\n",
              "      <th>0</th>\n",
              "      <td>39</td>\n",
              "      <td>15</td>\n",
              "      <td>0</td>\n",
              "    </tr>\n",
              "    <tr>\n",
              "      <th>1</th>\n",
              "      <td>81</td>\n",
              "      <td>15</td>\n",
              "      <td>4</td>\n",
              "    </tr>\n",
              "    <tr>\n",
              "      <th>2</th>\n",
              "      <td>6</td>\n",
              "      <td>16</td>\n",
              "      <td>0</td>\n",
              "    </tr>\n",
              "    <tr>\n",
              "      <th>3</th>\n",
              "      <td>77</td>\n",
              "      <td>16</td>\n",
              "      <td>4</td>\n",
              "    </tr>\n",
              "    <tr>\n",
              "      <th>4</th>\n",
              "      <td>40</td>\n",
              "      <td>17</td>\n",
              "      <td>0</td>\n",
              "    </tr>\n",
              "    <tr>\n",
              "      <th>...</th>\n",
              "      <td>...</td>\n",
              "      <td>...</td>\n",
              "      <td>...</td>\n",
              "    </tr>\n",
              "    <tr>\n",
              "      <th>195</th>\n",
              "      <td>79</td>\n",
              "      <td>120</td>\n",
              "      <td>3</td>\n",
              "    </tr>\n",
              "    <tr>\n",
              "      <th>196</th>\n",
              "      <td>28</td>\n",
              "      <td>126</td>\n",
              "      <td>1</td>\n",
              "    </tr>\n",
              "    <tr>\n",
              "      <th>197</th>\n",
              "      <td>74</td>\n",
              "      <td>126</td>\n",
              "      <td>3</td>\n",
              "    </tr>\n",
              "    <tr>\n",
              "      <th>198</th>\n",
              "      <td>18</td>\n",
              "      <td>137</td>\n",
              "      <td>1</td>\n",
              "    </tr>\n",
              "    <tr>\n",
              "      <th>199</th>\n",
              "      <td>83</td>\n",
              "      <td>137</td>\n",
              "      <td>3</td>\n",
              "    </tr>\n",
              "  </tbody>\n",
              "</table>\n",
              "<p>200 rows × 3 columns</p>\n",
              "</div>\n",
              "      <button class=\"colab-df-convert\" onclick=\"convertToInteractive('df-f248abf7-da7b-4ba3-acdc-4bc4ae510a46')\"\n",
              "              title=\"Convert this dataframe to an interactive table.\"\n",
              "              style=\"display:none;\">\n",
              "        \n",
              "  <svg xmlns=\"http://www.w3.org/2000/svg\" height=\"24px\"viewBox=\"0 0 24 24\"\n",
              "       width=\"24px\">\n",
              "    <path d=\"M0 0h24v24H0V0z\" fill=\"none\"/>\n",
              "    <path d=\"M18.56 5.44l.94 2.06.94-2.06 2.06-.94-2.06-.94-.94-2.06-.94 2.06-2.06.94zm-11 1L8.5 8.5l.94-2.06 2.06-.94-2.06-.94L8.5 2.5l-.94 2.06-2.06.94zm10 10l.94 2.06.94-2.06 2.06-.94-2.06-.94-.94-2.06-.94 2.06-2.06.94z\"/><path d=\"M17.41 7.96l-1.37-1.37c-.4-.4-.92-.59-1.43-.59-.52 0-1.04.2-1.43.59L10.3 9.45l-7.72 7.72c-.78.78-.78 2.05 0 2.83L4 21.41c.39.39.9.59 1.41.59.51 0 1.02-.2 1.41-.59l7.78-7.78 2.81-2.81c.8-.78.8-2.07 0-2.86zM5.41 20L4 18.59l7.72-7.72 1.47 1.35L5.41 20z\"/>\n",
              "  </svg>\n",
              "      </button>\n",
              "      \n",
              "  <style>\n",
              "    .colab-df-container {\n",
              "      display:flex;\n",
              "      flex-wrap:wrap;\n",
              "      gap: 12px;\n",
              "    }\n",
              "\n",
              "    .colab-df-convert {\n",
              "      background-color: #E8F0FE;\n",
              "      border: none;\n",
              "      border-radius: 50%;\n",
              "      cursor: pointer;\n",
              "      display: none;\n",
              "      fill: #1967D2;\n",
              "      height: 32px;\n",
              "      padding: 0 0 0 0;\n",
              "      width: 32px;\n",
              "    }\n",
              "\n",
              "    .colab-df-convert:hover {\n",
              "      background-color: #E2EBFA;\n",
              "      box-shadow: 0px 1px 2px rgba(60, 64, 67, 0.3), 0px 1px 3px 1px rgba(60, 64, 67, 0.15);\n",
              "      fill: #174EA6;\n",
              "    }\n",
              "\n",
              "    [theme=dark] .colab-df-convert {\n",
              "      background-color: #3B4455;\n",
              "      fill: #D2E3FC;\n",
              "    }\n",
              "\n",
              "    [theme=dark] .colab-df-convert:hover {\n",
              "      background-color: #434B5C;\n",
              "      box-shadow: 0px 1px 3px 1px rgba(0, 0, 0, 0.15);\n",
              "      filter: drop-shadow(0px 1px 2px rgba(0, 0, 0, 0.3));\n",
              "      fill: #FFFFFF;\n",
              "    }\n",
              "  </style>\n",
              "\n",
              "      <script>\n",
              "        const buttonEl =\n",
              "          document.querySelector('#df-f248abf7-da7b-4ba3-acdc-4bc4ae510a46 button.colab-df-convert');\n",
              "        buttonEl.style.display =\n",
              "          google.colab.kernel.accessAllowed ? 'block' : 'none';\n",
              "\n",
              "        async function convertToInteractive(key) {\n",
              "          const element = document.querySelector('#df-f248abf7-da7b-4ba3-acdc-4bc4ae510a46');\n",
              "          const dataTable =\n",
              "            await google.colab.kernel.invokeFunction('convertToInteractive',\n",
              "                                                     [key], {});\n",
              "          if (!dataTable) return;\n",
              "\n",
              "          const docLinkHtml = 'Like what you see? Visit the ' +\n",
              "            '<a target=\"_blank\" href=https://colab.research.google.com/notebooks/data_table.ipynb>data table notebook</a>'\n",
              "            + ' to learn more about interactive tables.';\n",
              "          element.innerHTML = '';\n",
              "          dataTable['output_type'] = 'display_data';\n",
              "          await google.colab.output.renderOutput(dataTable, element);\n",
              "          const docLink = document.createElement('div');\n",
              "          docLink.innerHTML = docLinkHtml;\n",
              "          element.appendChild(docLink);\n",
              "        }\n",
              "      </script>\n",
              "    </div>\n",
              "  </div>\n",
              "  "
            ]
          },
          "metadata": {},
          "execution_count": 35
        }
      ]
    },
    {
      "cell_type": "code",
      "source": [
        "data.to_csv('/content/result.csv')"
      ],
      "metadata": {
        "id": "qvXfm-I7pH78"
      },
      "execution_count": 36,
      "outputs": []
    }
  ]
}