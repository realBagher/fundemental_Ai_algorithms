{
  "nbformat": 4,
  "nbformat_minor": 0,
  "metadata": {
    "colab": {
      "provenance": [],
      "authorship_tag": "ABX9TyMJWnxkSsh4K+NerIHK8Uf2",
      "include_colab_link": true
    },
    "kernelspec": {
      "name": "python3",
      "display_name": "Python 3"
    },
    "language_info": {
      "name": "python"
    }
  },
  "cells": [
    {
      "cell_type": "markdown",
      "metadata": {
        "id": "view-in-github",
        "colab_type": "text"
      },
      "source": [
        "<a href=\"https://colab.research.google.com/github/realBagher/fundemental_Ai_algorithms/blob/main/evolutionary_strategy/Evolutionary_Strategy.ipynb\" target=\"_parent\"><img src=\"https://colab.research.google.com/assets/colab-badge.svg\" alt=\"Open In Colab\"/></a>"
      ]
    },
    {
      "cell_type": "markdown",
      "source": [
        "#Impelemention of evolutionary Strategy algorithm "
      ],
      "metadata": {
        "id": "7d8i8DYI8ZKy"
      }
    },
    {
      "cell_type": "code",
      "execution_count": null,
      "metadata": {
        "id": "HOI6ApcsPC9i"
      },
      "outputs": [],
      "source": [
        "import pandas as pd\n",
        "import numpy as np\n",
        "import matplotlib.pyplot as plt \n",
        "import scipy.stats as ss\n",
        "import math\n",
        "from tqdm import tqdm \n",
        "import copy"
      ]
    },
    {
      "cell_type": "markdown",
      "source": [
        "## Genome Class \n",
        "> in the class below the we have defined all the functions that are needed in including :\n",
        "\n",
        "\n",
        "*   intialization method : randomly creates the initial value for each feature of the genome in the given range  [-100,100] \n",
        "*   to_string method : simply prints out the genome details\n",
        "* evalue method : calculates the measurment mapped to the fitness of the genome \n",
        "<br> \n",
        "**please note that we solve for the minimum value here thus the lesser is the given number by the *evaluate* function the higher is the actual fitness of the genome**\n",
        "* constraint check method : checks each feature of genome to see if its in valid range of [-100 , 100] or not \n",
        "* mutate method : using the **np.random.randn** and sigma an mu of the mutation vairable we add a small amount to each feature to generate the next generations individual  \n",
        "\n"
      ],
      "metadata": {
        "id": "E2fBdvXw8mY6"
      }
    },
    {
      "cell_type": "code",
      "source": [
        "class genome:\n",
        "  def __init__(self,length):\n",
        "    self.genes = []\n",
        "    self.size = length\n",
        "    self.fitness = 0\n",
        "    \n",
        "  def initialize(self):\n",
        "    self.genes = list(np.random.randint(-100,100,self.size))\n",
        "\n",
        "  def to_string(self):\n",
        "    temp = pd.Series(self.genes)\n",
        "    print(\"\\n** GENOME EVALUATION **\")\n",
        "    print('-> fitness: ',self.evaluate())\n",
        "    print('-> GENOME DETAILS')\n",
        "    print(temp)\n",
        "\n",
        "  def evaluate(self):\n",
        "    fitness = np.sum(np.power(self.genes,2))\n",
        "    self.fitness = fitness\n",
        "    return fitness\n",
        "\n",
        "  def constraint_check(self):\n",
        "    for i in range(self.size):\n",
        "      if self.genes[i] < -100 or self.genes[i] > 100:\n",
        "        return False \n",
        "    return True\n",
        "\n",
        "  def constraint_check2(self,genes):\n",
        "    for i in range(len(genes)):\n",
        "      if genes[i] < -100 or genes[i] > 100:\n",
        "        return False \n",
        "    return True\n",
        "\n",
        "  def mutate(self,sigma,mu):\n",
        "    temp = self.genes.copy()\n",
        "    for i in range(len(temp)):\n",
        "     temp[i] += sigma * np.random.randn() + mu \n",
        "    if self.constraint_check2(temp):\n",
        "      self.genes = temp\n",
        "      return 1\n",
        "    else:\n",
        "      return 0\n",
        "\n",
        "\n",
        "\n",
        "\n",
        "\n"
      ],
      "metadata": {
        "id": "LNbl_CexfArI"
      },
      "execution_count": null,
      "outputs": []
    },
    {
      "cell_type": "markdown",
      "source": [
        "## replacement function \n",
        "> check the fitness of the both parent and child and return the one closer to the minimum"
      ],
      "metadata": {
        "id": "vdb7S_tqFEeZ"
      }
    },
    {
      "cell_type": "code",
      "source": [
        "def replacement(genome_parent,genome_child):\n",
        "  if genome_parent.evaluate() < genome_child.evaluate():\n",
        "    return genome_parent\n",
        "  else:\n",
        "    return genome_child\n"
      ],
      "metadata": {
        "id": "hR_kT34LYXn_"
      },
      "execution_count": null,
      "outputs": []
    },
    {
      "cell_type": "markdown",
      "source": [
        "## mutute function \n",
        "> copies the genome signature genes and add a small amount based on the normal distributions which is controlled using sigma and mu of the mutation \n",
        "<br>\n",
        "after checking the validation of genome signature it will return either the new genome sequence or the original parents sequence "
      ],
      "metadata": {
        "id": "e4UocfuVFQp5"
      }
    },
    {
      "cell_type": "code",
      "source": [
        "def mutate(genome,sigma,mu,sucess):\n",
        "    temp = genome.genes.copy()\n",
        "    for i in range(temp):\n",
        "      print(i)\n",
        "      temp[i] -= sigma * np.random.randn() + mu\n",
        "    for i in range(temp):\n",
        "      if temp[i] < -100 or temp[i] > 100:\n",
        "        # print('unsucessful mutation')\n",
        "        sucess[0] +=1 \n",
        "        return genome\n",
        "      else:\n",
        "        # print('sucessful mutation')\n",
        "        sucess[1] +=1 \n",
        "        genome.genes = temp\n",
        "        return genome \n",
        "\n",
        "    "
      ],
      "metadata": {
        "id": "l5lJkL76hCXV"
      },
      "execution_count": null,
      "outputs": []
    },
    {
      "cell_type": "markdown",
      "source": [
        "test of the said functions "
      ],
      "metadata": {
        "id": "VwyJAbhqF4F5"
      }
    },
    {
      "cell_type": "code",
      "source": [
        "child = genome(5)\n",
        "child.initialize()\n",
        "child.to_string()\n",
        "child.constraint_check()\n",
        "child.evaluate()\n",
        "child.mutate(1,1)"
      ],
      "metadata": {
        "colab": {
          "base_uri": "https://localhost:8080/"
        },
        "id": "cWLDT9BaKvNH",
        "outputId": "28c0f868-8e58-42ef-ab69-74433cfcbd32"
      },
      "execution_count": null,
      "outputs": [
        {
          "output_type": "stream",
          "name": "stdout",
          "text": [
            "\n",
            "** GENOME EVALUATION **\n",
            "-> fitness:  25709\n",
            "-> GENOME DETAILS\n",
            "0   -88\n",
            "1    -8\n",
            "2    96\n",
            "3    78\n",
            "4    51\n",
            "dtype: int64\n"
          ]
        },
        {
          "output_type": "execute_result",
          "data": {
            "text/plain": [
              "1"
            ]
          },
          "metadata": {},
          "execution_count": 6
        }
      ]
    },
    {
      "cell_type": "markdown",
      "source": [
        "## Implementation of the first ES algorithm\n",
        "the code is self-explanatory "
      ],
      "metadata": {
        "id": "srfMQdV8F_Kk"
      }
    },
    {
      "cell_type": "code",
      "source": [
        "FITNESS = []\n",
        "def es(genome_length,termination):\n",
        "  parent = genome(genome_length)\n",
        "  parent.initialize()\n",
        "  print('initial gen:')\n",
        "  parent.to_string()\n",
        "  for i in tqdm(range(termination)):\n",
        "    child = genome(genome_length)\n",
        "    child.genes = parent.genes\n",
        "    child.mutate(10,1)\n",
        "    parent = replacement(parent,child)\n",
        "    FITNESS.append(parent.evaluate())\n",
        "  return parent.to_string()\n",
        "     \n",
        "\n",
        "    \n",
        "\n"
      ],
      "metadata": {
        "id": "GfyuPI2YP7Df"
      },
      "execution_count": null,
      "outputs": []
    },
    {
      "cell_type": "code",
      "source": [],
      "metadata": {
        "id": "7kNr0fUbsdoa"
      },
      "execution_count": null,
      "outputs": []
    },
    {
      "cell_type": "code",
      "source": [
        "es(10,1000)"
      ],
      "metadata": {
        "colab": {
          "base_uri": "https://localhost:8080/"
        },
        "id": "dqpQUFtNeAxP",
        "outputId": "bb277652-b09d-47d5-8518-4348fdc57fc4"
      },
      "execution_count": null,
      "outputs": [
        {
          "output_type": "stream",
          "name": "stdout",
          "text": [
            "initial gen:\n",
            "\n",
            "** GENOME EVALUATION **\n",
            "-> fitness:  26081\n",
            "-> GENOME DETAILS\n",
            "0   -91\n",
            "1   -53\n",
            "2    64\n",
            "3     6\n",
            "4    50\n",
            "5    33\n",
            "6   -46\n",
            "7    37\n",
            "8    44\n",
            "9    43\n",
            "dtype: int64\n"
          ]
        },
        {
          "output_type": "stream",
          "name": "stderr",
          "text": [
            "100%|██████████| 1000/1000 [00:00<00:00, 20485.80it/s]"
          ]
        },
        {
          "output_type": "stream",
          "name": "stdout",
          "text": [
            "\n",
            "** GENOME EVALUATION **\n",
            "-> fitness:  128.20600989664973\n",
            "-> GENOME DETAILS\n",
            "0   -3.867773\n",
            "1    0.642587\n",
            "2   -0.372250\n",
            "3    1.804134\n",
            "4    5.317765\n",
            "5    2.814875\n",
            "6    5.694046\n",
            "7    5.844040\n",
            "8    0.635585\n",
            "9   -2.501774\n",
            "dtype: float64\n"
          ]
        },
        {
          "output_type": "stream",
          "name": "stderr",
          "text": [
            "\n"
          ]
        }
      ]
    },
    {
      "cell_type": "code",
      "source": [
        "plt.plot(FITNESS)"
      ],
      "metadata": {
        "colab": {
          "base_uri": "https://localhost:8080/",
          "height": 283
        },
        "id": "EJZ6hInTmL5a",
        "outputId": "4a1faf95-58bd-4d2c-ae0e-3c00abcf66f6"
      },
      "execution_count": null,
      "outputs": [
        {
          "output_type": "execute_result",
          "data": {
            "text/plain": [
              "[<matplotlib.lines.Line2D at 0x7f2f42925d90>]"
            ]
          },
          "metadata": {},
          "execution_count": 25
        },
        {
          "output_type": "display_data",
          "data": {
            "text/plain": [
              "<Figure size 432x288 with 1 Axes>"
            ],
            "image/png": "[encoded data removed]"
          },
          "metadata": {
            "needs_background": "light"
          }
        }
      ]
    },
    {
      "cell_type": "markdown",
      "source": [
        "## Impelementation of ES algorithm with 1/5 rule \n",
        "the sigma parameter of the mutation is set by the 1/5 th rule "
      ],
      "metadata": {
        "id": "SOSO5FlaHdSw"
      }
    },
    {
      "cell_type": "code",
      "source": [
        "FITNESS = []\n",
        "SIGMA_VALUE = []\n",
        "S_VALUE = []\n",
        "def es(gene_size,termination,iterations=10):\n",
        "  parent_genome = genome(gene_size)\n",
        "  parent_genome.initialize()\n",
        "  print('initial gen:')\n",
        "  parent_genome.to_string()\n",
        "  #initial sigma is set on -10\n",
        "  sigma = -10\n",
        "  success=0\n",
        "  denom = 0.85\n",
        "  for epoch in range(termination):\n",
        "    child_genome = genome(gene_size)\n",
        "    child_genome.genes = parent_genome.genes\n",
        "    #after k-iterations check and tune sigma based on successful mutations actual 1/5th rule implementation \n",
        "    if(epoch%iterations==0):\n",
        "      succuess_rate=success/iterations\n",
        "      # print('------------->>',success,\" || rate\",succuess_rate)\n",
        "      if(succuess_rate>0.2):\n",
        "        sigma=sigma/denom\n",
        "        # print('1: sigma changed to ',sigma)\n",
        "      elif succuess_rate<0.2:\n",
        "        sigma=sigma*denom\n",
        "        # print('2: sigma changed to ',sigma)\n",
        "      SIGMA_VALUE.append(sigma)\n",
        "      \n",
        "        \n",
        "    # calculation the success \n",
        "    status = child_genome.mutate(sigma,1)\n",
        "    if status :\n",
        "      if child_genome.evaluate() < parent_genome.evaluate():\n",
        "        parent_genome = child_genome\n",
        "        success += 1\n",
        "        S_VALUE.append(success)\n",
        "        FITNESS.append(parent_genome.evaluate())\n",
        "\n",
        "\n",
        "    \n",
        "  # print the result\n",
        "  print('final gen')\n",
        "  parent_genome.to_string()"
      ],
      "metadata": {
        "id": "wfxJThvxi3hj"
      },
      "execution_count": null,
      "outputs": []
    },
    {
      "cell_type": "code",
      "source": [
        "es(10,1000)"
      ],
      "metadata": {
        "colab": {
          "base_uri": "https://localhost:8080/"
        },
        "id": "skl8Hk5SCKYj",
        "outputId": "e5b976d6-09af-4203-c9c4-f1c24d138441"
      },
      "execution_count": null,
      "outputs": [
        {
          "output_type": "stream",
          "name": "stdout",
          "text": [
            "initial gen:\n",
            "\n",
            "** GENOME EVALUATION **\n",
            "-> fitness:  29629\n",
            "-> GENOME DETAILS\n",
            "0    52\n",
            "1    50\n",
            "2   -92\n",
            "3   -18\n",
            "4    -5\n",
            "5    45\n",
            "6   -79\n",
            "7    15\n",
            "8   -64\n",
            "9   -55\n",
            "dtype: int64\n",
            "final gen\n",
            "\n",
            "** GENOME EVALUATION **\n",
            "-> fitness:  1197.7592335052984\n",
            "-> GENOME DETAILS\n",
            "0    24.932651\n",
            "1     3.484512\n",
            "2     6.590989\n",
            "3    -5.740935\n",
            "4    -3.051261\n",
            "5     6.485085\n",
            "6    -1.691082\n",
            "7    -7.475113\n",
            "8    14.192673\n",
            "9    13.268207\n",
            "dtype: float64\n"
          ]
        }
      ]
    },
    {
      "cell_type": "code",
      "source": [
        "plt.plot(FITNESS)"
      ],
      "metadata": {
        "colab": {
          "base_uri": "https://localhost:8080/",
          "height": 283
        },
        "id": "23f88ZStsX-q",
        "outputId": "37dfddd0-dd15-447a-c435-4d241c54ac8b"
      },
      "execution_count": null,
      "outputs": [
        {
          "output_type": "execute_result",
          "data": {
            "text/plain": [
              "[<matplotlib.lines.Line2D at 0x7f2f40c70d30>]"
            ]
          },
          "metadata": {},
          "execution_count": 28
        },
        {
          "output_type": "display_data",
          "data": {
            "text/plain": [
              "<Figure size 432x288 with 1 Axes>"
            ],
            "image/png": "[encoded data removed]"
          },
          "metadata": {
            "needs_background": "light"
          }
        }
      ]
    },
    {
      "cell_type": "code",
      "source": [
        "plt.plot(SIGMA_VALUE)"
      ],
      "metadata": {
        "colab": {
          "base_uri": "https://localhost:8080/",
          "height": 294
        },
        "id": "-Tjjd_gjsa8j",
        "outputId": "06802ad1-87b9-4dd8-ea8f-83403c4cb27b"
      },
      "execution_count": null,
      "outputs": [
        {
          "output_type": "execute_result",
          "data": {
            "text/plain": [
              "[<matplotlib.lines.Line2D at 0x7f2f41e82eb0>]"
            ]
          },
          "metadata": {},
          "execution_count": 29
        },
        {
          "output_type": "display_data",
          "data": {
            "text/plain": [
              "<Figure size 432x288 with 1 Axes>"
            ],
            "image/png": "[encoded data removed]"
          },
          "metadata": {
            "needs_background": "light"
          }
        }
      ]
    },
    {
      "cell_type": "code",
      "source": [
        "plt.plot(S_VALUE)"
      ],
      "metadata": {
        "colab": {
          "base_uri": "https://localhost:8080/",
          "height": 283
        },
        "id": "AJvgVgxosjaC",
        "outputId": "b3c32a27-c944-4ad3-e6ec-9d56f338e366"
      },
      "execution_count": null,
      "outputs": [
        {
          "output_type": "execute_result",
          "data": {
            "text/plain": [
              "[<matplotlib.lines.Line2D at 0x7f2f41b1c670>]"
            ]
          },
          "metadata": {},
          "execution_count": 31
        },
        {
          "output_type": "display_data",
          "data": {
            "text/plain": [
              "<Figure size 432x288 with 1 Axes>"
            ],
            "image/png": "[encoded data removed]"
          },
          "metadata": {
            "needs_background": "light"
          }
        }
      ]
    },
    {
      "cell_type": "markdown",
      "source": [
        "## Impelementation of ES algorithm based on mu =4 and lambda = 2"
      ],
      "metadata": {
        "id": "NODERgG7JoaY"
      }
    },
    {
      "cell_type": "code",
      "source": [
        "FITNESS = []\n",
        "def es(gene_length,termination,mu,lambdaa,replacement_type):\n",
        "  parents=[]\n",
        "  childs=[]\n",
        "  for i in range(mu):\n",
        "    parent = genome(gene_length)\n",
        "    parent.initialize()\n",
        "    parents.append(parent)\n",
        "  print('initial gen:')\n",
        "  for i in range(len(parents)):\n",
        "    parents[i].to_string()\n",
        "    \n",
        "  for i in tqdm(range(termination)):\n",
        "    fitness = [parent.evaluate() for parent in parents]\n",
        "    FITNESS.append(fitness)\n",
        "    prob = [ eval/np.sum(fitness) for eval in fitness]\n",
        "    childs=[]\n",
        "    for i in range(lambdaa):\n",
        "      childs.append(np.random.choice(parents,p=prob))\n",
        "\n",
        "      for child in childs:\n",
        "        child.mutate(-1000,1)\n",
        "           \n",
        "      if replacement_type==\",\":\n",
        "         \n",
        "         childs.sort(key= lambda child : child.evaluate())\n",
        "         parents=[]\n",
        "         for i in range(0,mu):\n",
        "          parents.append(childs[i])\n",
        "\n",
        "      elif replacement_type==\"+\":\n",
        "        mating_pool = [*parents,*childs]\n",
        "        mating_pool.sort(key= lambda x : child.evaluate())\n",
        "        parents=[]\n",
        "        for i in range(0,mu):\n",
        "          fitness = mating_pool[i].evaluate()\n",
        "          FITNESS.append(fitness)\n",
        "          parents.append(mating_pool[i])\n",
        "\n",
        "\n",
        "\n",
        "\n",
        "  parents.sort(key = lambda parent : parent.evaluate())\n",
        "  print('->final gen:')\n",
        "  for i in range(len(parents)):\n",
        "    parents[i].to_string()"
      ],
      "metadata": {
        "id": "gSVCjybFHbEh"
      },
      "execution_count": null,
      "outputs": []
    },
    {
      "cell_type": "code",
      "source": [
        "es(10,1000,4,2,'+')"
      ],
      "metadata": {
        "colab": {
          "base_uri": "https://localhost:8080/"
        },
        "id": "Hf9aF-iiMBj5",
        "outputId": "60ce6d0c-57b2-4764-82c5-e77af36f36d4"
      },
      "execution_count": null,
      "outputs": [
        {
          "output_type": "stream",
          "name": "stdout",
          "text": [
            "initial gen:\n",
            "\n",
            "** GENOME EVALUATION **\n",
            "-> fitness:  35501\n",
            "-> GENOME DETAILS\n",
            "0    49\n",
            "1    92\n",
            "2     6\n",
            "3   -61\n",
            "4    -4\n",
            "5   -80\n",
            "6    45\n",
            "7   -35\n",
            "8    67\n",
            "9   -82\n",
            "dtype: int64\n",
            "\n",
            "** GENOME EVALUATION **\n",
            "-> fitness:  49810\n",
            "-> GENOME DETAILS\n",
            "0   -87\n",
            "1   -30\n",
            "2    90\n",
            "3   -53\n",
            "4    11\n",
            "5    76\n",
            "6   -62\n",
            "7    81\n",
            "8   -81\n",
            "9   -87\n",
            "dtype: int64\n",
            "\n",
            "** GENOME EVALUATION **\n",
            "-> fitness:  46370\n",
            "-> GENOME DETAILS\n",
            "0    91\n",
            "1    26\n",
            "2   -91\n",
            "3    92\n",
            "4    67\n",
            "5   -33\n",
            "6   -57\n",
            "7    71\n",
            "8    52\n",
            "9   -64\n",
            "dtype: int64\n",
            "\n",
            "** GENOME EVALUATION **\n",
            "-> fitness:  41865\n",
            "-> GENOME DETAILS\n",
            "0     9\n",
            "1    43\n",
            "2     1\n",
            "3    93\n",
            "4   -95\n",
            "5    79\n",
            "6    75\n",
            "7   -63\n",
            "8    44\n",
            "9   -67\n",
            "dtype: int64\n"
          ]
        },
        {
          "output_type": "stream",
          "name": "stderr",
          "text": [
            "100%|██████████| 1000/1000 [00:00<00:00, 2072.77it/s]"
          ]
        },
        {
          "output_type": "stream",
          "name": "stdout",
          "text": [
            "->final gen:\n",
            "\n",
            "** GENOME EVALUATION **\n",
            "-> fitness:  35501\n",
            "-> GENOME DETAILS\n",
            "0    49\n",
            "1    92\n",
            "2     6\n",
            "3   -61\n",
            "4    -4\n",
            "5   -80\n",
            "6    45\n",
            "7   -35\n",
            "8    67\n",
            "9   -82\n",
            "dtype: int64\n",
            "\n",
            "** GENOME EVALUATION **\n",
            "-> fitness:  41865\n",
            "-> GENOME DETAILS\n",
            "0     9\n",
            "1    43\n",
            "2     1\n",
            "3    93\n",
            "4   -95\n",
            "5    79\n",
            "6    75\n",
            "7   -63\n",
            "8    44\n",
            "9   -67\n",
            "dtype: int64\n",
            "\n",
            "** GENOME EVALUATION **\n",
            "-> fitness:  46370\n",
            "-> GENOME DETAILS\n",
            "0    91\n",
            "1    26\n",
            "2   -91\n",
            "3    92\n",
            "4    67\n",
            "5   -33\n",
            "6   -57\n",
            "7    71\n",
            "8    52\n",
            "9   -64\n",
            "dtype: int64\n",
            "\n",
            "** GENOME EVALUATION **\n",
            "-> fitness:  49810\n",
            "-> GENOME DETAILS\n",
            "0   -87\n",
            "1   -30\n",
            "2    90\n",
            "3   -53\n",
            "4    11\n",
            "5    76\n",
            "6   -62\n",
            "7    81\n",
            "8   -81\n",
            "9   -87\n",
            "dtype: int64\n"
          ]
        },
        {
          "output_type": "stream",
          "name": "stderr",
          "text": [
            "\n"
          ]
        }
      ]
    }
  ]
}